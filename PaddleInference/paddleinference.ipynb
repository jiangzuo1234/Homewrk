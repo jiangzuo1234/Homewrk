{
 "cells": [
  {
   "cell_type": "markdown",
   "metadata": {
    "execution": {
     "iopub.execute_input": "2022-05-25T04:53:02.373647Z",
     "iopub.status.busy": "2022-05-25T04:53:02.373004Z",
     "iopub.status.idle": "2022-05-25T04:53:08.163744Z",
     "shell.execute_reply": "2022-05-25T04:53:08.162645Z",
     "shell.execute_reply.started": "2022-05-25T04:53:02.373608Z"
    },
    "jupyter": {
     "outputs_hidden": false
    },
    "tags": []
   },
   "source": [
    "# 作业一"
   ]
  },
  {
   "cell_type": "code",
   "execution_count": 1,
   "metadata": {
    "execution": {
     "iopub.execute_input": "2022-06-28T14:52:50.421358Z",
     "iopub.status.busy": "2022-06-28T14:52:50.420490Z",
     "iopub.status.idle": "2022-06-28T14:52:51.952510Z",
     "shell.execute_reply": "2022-06-28T14:52:51.951433Z",
     "shell.execute_reply.started": "2022-06-28T14:52:50.421317Z"
    },
    "scrolled": true,
    "tags": []
   },
   "outputs": [],
   "source": [
    "# !wget https://paddle-inference-dist.bj.bcebos.com/Paddle-Inference-Demo/resnet50.tgz\n",
    "!tar zxf resnet50.tgz"
   ]
  },
  {
   "cell_type": "code",
   "execution_count": 2,
   "metadata": {
    "collapsed": false,
    "execution": {
     "iopub.execute_input": "2022-06-28T14:53:13.714330Z",
     "iopub.status.busy": "2022-06-28T14:53:13.713688Z",
     "iopub.status.idle": "2022-06-28T14:53:17.480045Z",
     "shell.execute_reply": "2022-06-28T14:53:17.478626Z",
     "shell.execute_reply.started": "2022-06-28T14:53:13.714287Z"
    },
    "jupyter": {
     "outputs_hidden": false
    },
    "scrolled": true,
    "tags": []
   },
   "outputs": [
    {
     "name": "stdout",
     "output_type": "stream",
     "text": [
      "/opt/conda/envs/python35-paddle120-env/lib/python3.7/site-packages/setuptools/depends.py:2: DeprecationWarning: the imp module is deprecated in favour of importlib; see the module's documentation for alternative uses\n",
      "  import imp\n",
      "\u001b[1m\u001b[35m--- Running analysis [ir_graph_build_pass]\u001b[0m\n",
      "\u001b[1m\u001b[35m--- Running analysis [ir_graph_clean_pass]\u001b[0m\n",
      "\u001b[1m\u001b[35m--- Running analysis [ir_analysis_pass]\u001b[0m\n",
      "\u001b[32m--- Running IR pass [simplify_with_basic_ops_pass]\u001b[0m\n",
      "\u001b[32m--- Running IR pass [layer_norm_fuse_pass]\u001b[0m\n",
      "\u001b[37m---    Fused 0 subgraphs into layer_norm op.\u001b[0m\n",
      "\u001b[32m--- Running IR pass [attention_lstm_fuse_pass]\u001b[0m\n",
      "\u001b[32m--- Running IR pass [seqconv_eltadd_relu_fuse_pass]\u001b[0m\n",
      "\u001b[32m--- Running IR pass [seqpool_cvm_concat_fuse_pass]\u001b[0m\n",
      "\u001b[32m--- Running IR pass [mul_lstm_fuse_pass]\u001b[0m\n",
      "\u001b[32m--- Running IR pass [fc_gru_fuse_pass]\u001b[0m\n",
      "\u001b[37m---    fused 0 pairs of fc gru patterns\u001b[0m\n",
      "\u001b[32m--- Running IR pass [mul_gru_fuse_pass]\u001b[0m\n",
      "\u001b[32m--- Running IR pass [seq_concat_fc_fuse_pass]\u001b[0m\n",
      "\u001b[32m--- Running IR pass [gpu_cpu_squeeze2_matmul_fuse_pass]\u001b[0m\n",
      "\u001b[32m--- Running IR pass [gpu_cpu_reshape2_matmul_fuse_pass]\u001b[0m\n",
      "I0628 22:53:15.823704   393 fuse_pass_base.cc:57] ---  detected 1 subgraphs\n",
      "\u001b[32m--- Running IR pass [gpu_cpu_flatten2_matmul_fuse_pass]\u001b[0m\n",
      "\u001b[32m--- Running IR pass [matmul_v2_scale_fuse_pass]\u001b[0m\n",
      "\u001b[32m--- Running IR pass [gpu_cpu_map_matmul_v2_to_mul_pass]\u001b[0m\n",
      "\u001b[32m--- Running IR pass [gpu_cpu_map_matmul_v2_to_matmul_pass]\u001b[0m\n",
      "\u001b[32m--- Running IR pass [matmul_scale_fuse_pass]\u001b[0m\n",
      "\u001b[32m--- Running IR pass [gpu_cpu_map_matmul_to_mul_pass]\u001b[0m\n",
      "\u001b[32m--- Running IR pass [fc_fuse_pass]\u001b[0m\n",
      "I0628 22:53:15.832058   393 fuse_pass_base.cc:57] ---  detected 1 subgraphs\n",
      "\u001b[32m--- Running IR pass [repeated_fc_relu_fuse_pass]\u001b[0m\n",
      "\u001b[32m--- Running IR pass [squared_mat_sub_fuse_pass]\u001b[0m\n",
      "\u001b[32m--- Running IR pass [conv_bn_fuse_pass]\u001b[0m\n",
      "I0628 22:53:15.920235   393 fuse_pass_base.cc:57] ---  detected 53 subgraphs\n",
      "\u001b[32m--- Running IR pass [conv_eltwiseadd_bn_fuse_pass]\u001b[0m\n",
      "\u001b[32m--- Running IR pass [conv_transpose_bn_fuse_pass]\u001b[0m\n",
      "\u001b[32m--- Running IR pass [conv_transpose_eltwiseadd_bn_fuse_pass]\u001b[0m\n",
      "\u001b[32m--- Running IR pass [is_test_pass]\u001b[0m\n",
      "\u001b[32m--- Running IR pass [runtime_context_cache_pass]\u001b[0m\n",
      "\u001b[1m\u001b[35m--- Running analysis [ir_params_sync_among_devices_pass]\u001b[0m\n",
      "\u001b[1m\u001b[35m--- Running analysis [adjust_cudnn_workspace_size_pass]\u001b[0m\n",
      "\u001b[1m\u001b[35m--- Running analysis [inference_op_replace_pass]\u001b[0m\n",
      "\u001b[1m\u001b[35m--- Running analysis [ir_graph_to_program_pass]\u001b[0m\n",
      "I0628 22:53:16.020687   393 analysis_predictor.cc:1007] ======= optimize end =======\n",
      "I0628 22:53:16.026165   393 naive_executor.cc:102] ---  skip [feed], feed -> inputs\n",
      "I0628 22:53:16.029259   393 naive_executor.cc:102] ---  skip [save_infer_model/scale_0.tmp_1], fetch -> fetch\n",
      "Output data size is 2000\n",
      "Output data shape is (2, 1000)\n"
     ]
    }
   ],
   "source": [
    "!python python_demo.py --model_file ./resnet50/inference.pdmodel --params_file ./resnet50/inference.pdiparams --batch_size 2"
   ]
  },
  {
   "cell_type": "markdown",
   "metadata": {
    "jupyter": {
     "outputs_hidden": false
    }
   },
   "source": [
    "# 作业二"
   ]
  },
  {
   "cell_type": "code",
   "execution_count": 3,
   "metadata": {
    "collapsed": false,
    "execution": {
     "iopub.execute_input": "2022-06-28T14:54:17.956016Z",
     "iopub.status.busy": "2022-06-28T14:54:17.955411Z",
     "iopub.status.idle": "2022-06-28T14:54:22.090720Z",
     "shell.execute_reply": "2022-06-28T14:54:22.089663Z",
     "shell.execute_reply.started": "2022-06-28T14:54:17.955953Z"
    },
    "jupyter": {
     "outputs_hidden": false
    },
    "scrolled": true,
    "tags": []
   },
   "outputs": [
    {
     "name": "stdout",
     "output_type": "stream",
     "text": [
      "/opt/conda/envs/python35-paddle120-env/lib/python3.7/site-packages/setuptools/depends.py:2: DeprecationWarning: the imp module is deprecated in favour of importlib; see the module's documentation for alternative uses\n",
      "  import imp\n",
      "E0628 22:54:19.895426   569 analysis_config.cc:95] Please compile with gpu to EnableGpu()\n",
      "E0628 22:54:19.895510   569 analysis_config.cc:465] To use TensorRT engine, please compile inference lib with GPU first.\n",
      "\u001b[1m\u001b[35m--- Running analysis [ir_graph_build_pass]\u001b[0m\n",
      "\u001b[1m\u001b[35m--- Running analysis [ir_graph_clean_pass]\u001b[0m\n",
      "\u001b[1m\u001b[35m--- Running analysis [ir_analysis_pass]\u001b[0m\n",
      "\u001b[32m--- Running IR pass [simplify_with_basic_ops_pass]\u001b[0m\n",
      "\u001b[32m--- Running IR pass [layer_norm_fuse_pass]\u001b[0m\n",
      "\u001b[37m---    Fused 0 subgraphs into layer_norm op.\u001b[0m\n",
      "\u001b[32m--- Running IR pass [attention_lstm_fuse_pass]\u001b[0m\n",
      "\u001b[32m--- Running IR pass [seqconv_eltadd_relu_fuse_pass]\u001b[0m\n",
      "\u001b[32m--- Running IR pass [seqpool_cvm_concat_fuse_pass]\u001b[0m\n",
      "\u001b[32m--- Running IR pass [mul_lstm_fuse_pass]\u001b[0m\n",
      "\u001b[32m--- Running IR pass [fc_gru_fuse_pass]\u001b[0m\n",
      "\u001b[37m---    fused 0 pairs of fc gru patterns\u001b[0m\n",
      "\u001b[32m--- Running IR pass [mul_gru_fuse_pass]\u001b[0m\n",
      "\u001b[32m--- Running IR pass [seq_concat_fc_fuse_pass]\u001b[0m\n",
      "\u001b[32m--- Running IR pass [gpu_cpu_squeeze2_matmul_fuse_pass]\u001b[0m\n",
      "\u001b[32m--- Running IR pass [gpu_cpu_reshape2_matmul_fuse_pass]\u001b[0m\n",
      "I0628 22:54:20.100972   569 fuse_pass_base.cc:57] ---  detected 1 subgraphs\n",
      "\u001b[32m--- Running IR pass [gpu_cpu_flatten2_matmul_fuse_pass]\u001b[0m\n",
      "\u001b[32m--- Running IR pass [matmul_v2_scale_fuse_pass]\u001b[0m\n",
      "\u001b[32m--- Running IR pass [gpu_cpu_map_matmul_v2_to_mul_pass]\u001b[0m\n",
      "\u001b[32m--- Running IR pass [gpu_cpu_map_matmul_v2_to_matmul_pass]\u001b[0m\n",
      "\u001b[32m--- Running IR pass [matmul_scale_fuse_pass]\u001b[0m\n",
      "\u001b[32m--- Running IR pass [gpu_cpu_map_matmul_to_mul_pass]\u001b[0m\n",
      "\u001b[32m--- Running IR pass [fc_fuse_pass]\u001b[0m\n",
      "I0628 22:54:20.109367   569 fuse_pass_base.cc:57] ---  detected 1 subgraphs\n",
      "\u001b[32m--- Running IR pass [repeated_fc_relu_fuse_pass]\u001b[0m\n",
      "\u001b[32m--- Running IR pass [squared_mat_sub_fuse_pass]\u001b[0m\n",
      "\u001b[32m--- Running IR pass [conv_bn_fuse_pass]\u001b[0m\n",
      "I0628 22:54:20.197871   569 fuse_pass_base.cc:57] ---  detected 53 subgraphs\n",
      "\u001b[32m--- Running IR pass [conv_eltwiseadd_bn_fuse_pass]\u001b[0m\n",
      "\u001b[32m--- Running IR pass [conv_transpose_bn_fuse_pass]\u001b[0m\n",
      "\u001b[32m--- Running IR pass [conv_transpose_eltwiseadd_bn_fuse_pass]\u001b[0m\n",
      "\u001b[32m--- Running IR pass [is_test_pass]\u001b[0m\n",
      "\u001b[32m--- Running IR pass [runtime_context_cache_pass]\u001b[0m\n",
      "\u001b[1m\u001b[35m--- Running analysis [ir_params_sync_among_devices_pass]\u001b[0m\n",
      "\u001b[1m\u001b[35m--- Running analysis [adjust_cudnn_workspace_size_pass]\u001b[0m\n",
      "\u001b[1m\u001b[35m--- Running analysis [inference_op_replace_pass]\u001b[0m\n",
      "\u001b[1m\u001b[35m--- Running analysis [memory_optimize_pass]\u001b[0m\n",
      "I0628 22:54:20.230952   569 memory_optimize_pass.cc:216] Cluster name : inputs  size: 602112\n",
      "I0628 22:54:20.230991   569 memory_optimize_pass.cc:216] Cluster name : relu_3.tmp_0  size: 1605632\n",
      "I0628 22:54:20.230996   569 memory_optimize_pass.cc:216] Cluster name : conv2d_57.tmp_0  size: 3211264\n",
      "I0628 22:54:20.231009   569 memory_optimize_pass.cc:216] Cluster name : elementwise_add_1  size: 3211264\n",
      "I0628 22:54:20.231017   569 memory_optimize_pass.cc:216] Cluster name : relu_0.tmp_0  size: 3211264\n",
      "\u001b[1m\u001b[35m--- Running analysis [ir_graph_to_program_pass]\u001b[0m\n",
      "I0628 22:54:20.304334   569 analysis_predictor.cc:1007] ======= optimize end =======\n",
      "I0628 22:54:20.309547   569 naive_executor.cc:102] ---  skip [feed], feed -> inputs\n",
      "I0628 22:54:20.312353   569 naive_executor.cc:102] ---  skip [save_infer_model/scale_0.tmp_1], fetch -> fetch\n",
      "trt 0.16484403610229492\n",
      "trt 0.13664603233337402\n",
      "trt 0.13747382164001465\n",
      "trt 0.13762736320495605\n",
      "trt 0.14130353927612305\n",
      "trt 0.1415882110595703\n",
      "trt 0.13435888290405273\n",
      "trt 0.13705706596374512\n",
      "trt 0.13894152641296387\n",
      "trt 0.14049935340881348\n",
      "class index:  499\n"
     ]
    }
   ],
   "source": [
    "\n",
    "!python python_demo_trt.py"
   ]
  },
  {
   "cell_type": "code",
   "execution_count": 4,
   "metadata": {
    "execution": {
     "iopub.execute_input": "2022-06-28T14:55:46.453744Z",
     "iopub.status.busy": "2022-06-28T14:55:46.452869Z",
     "iopub.status.idle": "2022-06-28T14:55:52.691961Z",
     "shell.execute_reply": "2022-06-28T14:55:52.690945Z",
     "shell.execute_reply.started": "2022-06-28T14:55:46.453706Z"
    },
    "scrolled": true,
    "tags": []
   },
   "outputs": [
    {
     "name": "stdout",
     "output_type": "stream",
     "text": [
      "/opt/conda/envs/python35-paddle120-env/lib/python3.7/site-packages/setuptools/depends.py:2: DeprecationWarning: the imp module is deprecated in favour of importlib; see the module's documentation for alternative uses\n",
      "  import imp\n",
      "True\n",
      "I0628 22:55:48.484014   832 analysis_predictor.cc:937] MKLDNN is enabled\n",
      "\u001b[1m\u001b[35m--- Running analysis [ir_graph_build_pass]\u001b[0m\n",
      "\u001b[1m\u001b[35m--- Running analysis [ir_graph_clean_pass]\u001b[0m\n",
      "\u001b[1m\u001b[35m--- Running analysis [ir_analysis_pass]\u001b[0m\n",
      "\u001b[32m--- Running IR pass [mkldnn_placement_pass]\u001b[0m\n",
      "\u001b[32m--- Running IR pass [simplify_with_basic_ops_pass]\u001b[0m\n",
      "\u001b[32m--- Running IR pass [layer_norm_fuse_pass]\u001b[0m\n",
      "\u001b[37m---    Fused 0 subgraphs into layer_norm op.\u001b[0m\n",
      "\u001b[32m--- Running IR pass [attention_lstm_fuse_pass]\u001b[0m\n",
      "\u001b[32m--- Running IR pass [seqconv_eltadd_relu_fuse_pass]\u001b[0m\n",
      "\u001b[32m--- Running IR pass [seqpool_cvm_concat_fuse_pass]\u001b[0m\n",
      "\u001b[32m--- Running IR pass [mul_lstm_fuse_pass]\u001b[0m\n",
      "\u001b[32m--- Running IR pass [fc_gru_fuse_pass]\u001b[0m\n",
      "\u001b[37m---    fused 0 pairs of fc gru patterns\u001b[0m\n",
      "\u001b[32m--- Running IR pass [mul_gru_fuse_pass]\u001b[0m\n",
      "\u001b[32m--- Running IR pass [seq_concat_fc_fuse_pass]\u001b[0m\n",
      "\u001b[32m--- Running IR pass [gpu_cpu_squeeze2_matmul_fuse_pass]\u001b[0m\n",
      "\u001b[32m--- Running IR pass [gpu_cpu_reshape2_matmul_fuse_pass]\u001b[0m\n",
      "I0628 22:55:48.663944   832 fuse_pass_base.cc:57] ---  detected 1 subgraphs\n",
      "\u001b[32m--- Running IR pass [gpu_cpu_flatten2_matmul_fuse_pass]\u001b[0m\n",
      "\u001b[32m--- Running IR pass [matmul_v2_scale_fuse_pass]\u001b[0m\n",
      "\u001b[32m--- Running IR pass [gpu_cpu_map_matmul_v2_to_mul_pass]\u001b[0m\n",
      "\u001b[32m--- Running IR pass [gpu_cpu_map_matmul_v2_to_matmul_pass]\u001b[0m\n",
      "\u001b[32m--- Running IR pass [matmul_scale_fuse_pass]\u001b[0m\n",
      "\u001b[32m--- Running IR pass [gpu_cpu_map_matmul_to_mul_pass]\u001b[0m\n",
      "\u001b[32m--- Running IR pass [fc_fuse_pass]\u001b[0m\n",
      "I0628 22:55:48.672166   832 fuse_pass_base.cc:57] ---  detected 1 subgraphs\n",
      "\u001b[32m--- Running IR pass [repeated_fc_relu_fuse_pass]\u001b[0m\n",
      "\u001b[32m--- Running IR pass [squared_mat_sub_fuse_pass]\u001b[0m\n",
      "\u001b[32m--- Running IR pass [conv_bn_fuse_pass]\u001b[0m\n",
      "I0628 22:55:48.759339   832 fuse_pass_base.cc:57] ---  detected 53 subgraphs\n",
      "\u001b[32m--- Running IR pass [conv_eltwiseadd_bn_fuse_pass]\u001b[0m\n",
      "\u001b[32m--- Running IR pass [conv_transpose_bn_fuse_pass]\u001b[0m\n",
      "\u001b[32m--- Running IR pass [conv_transpose_eltwiseadd_bn_fuse_pass]\u001b[0m\n",
      "\u001b[32m--- Running IR pass [is_test_pass]\u001b[0m\n",
      "\u001b[32m--- Running IR pass [runtime_context_cache_pass]\u001b[0m\n",
      "\u001b[32m--- Running IR pass [depthwise_conv_mkldnn_pass]\u001b[0m\n",
      "\u001b[32m--- Running IR pass [conv_bn_fuse_pass]\u001b[0m\n",
      "\u001b[32m--- Running IR pass [conv_eltwiseadd_bn_fuse_pass]\u001b[0m\n",
      "\u001b[32m--- Running IR pass [conv_transpose_bn_fuse_pass]\u001b[0m\n",
      "\u001b[32m--- Running IR pass [conv_transpose_eltwiseadd_bn_fuse_pass]\u001b[0m\n",
      "\u001b[32m--- Running IR pass [conv_bias_mkldnn_fuse_pass]\u001b[0m\n",
      "\u001b[32m--- Running IR pass [conv_transpose_bias_mkldnn_fuse_pass]\u001b[0m\n",
      "\u001b[32m--- Running IR pass [conv_elementwise_add_mkldnn_fuse_pass]\u001b[0m\n",
      "\u001b[37m---    Fused 4 projection conv (as y) + elementwise_add patterns\u001b[0m\n",
      "\u001b[37m---    Fused 0 conv (as x) + elementwise_add patterns\u001b[0m\n",
      "\u001b[37m---    Fused 12 conv (as y) + elementwise_add patterns\u001b[0m\n",
      "I0628 22:55:48.811349   832 fuse_pass_base.cc:57] ---  detected 16 subgraphs\n",
      "\u001b[32m--- Running IR pass [conv_concat_relu_mkldnn_fuse_pass]\u001b[0m\n",
      "\u001b[32m--- Running IR pass [conv_relu_mkldnn_fuse_pass]\u001b[0m\n",
      "I0628 22:55:48.826319   832 fuse_pass_base.cc:57] ---  detected 49 subgraphs\n",
      "\u001b[32m--- Running IR pass [conv_leaky_relu_mkldnn_fuse_pass]\u001b[0m\n",
      "\u001b[32m--- Running IR pass [conv_relu6_mkldnn_fuse_pass]\u001b[0m\n",
      "\u001b[32m--- Running IR pass [conv_swish_mkldnn_fuse_pass]\u001b[0m\n",
      "\u001b[32m--- Running IR pass [conv_hard_swish_mkldnn_fuse_pass]\u001b[0m\n",
      "\u001b[32m--- Running IR pass [conv_mish_mkldnn_fuse_pass]\u001b[0m\n",
      "\u001b[32m--- Running IR pass [conv_hard_sigmoid_mkldnn_fuse_pass]\u001b[0m\n",
      "\u001b[32m--- Running IR pass [conv_gelu_mkldnn_fuse_pass]\u001b[0m\n",
      "\u001b[32m--- Running IR pass [scale_matmul_fuse_pass]\u001b[0m\n",
      "\u001b[37m---    fused 0 scale with matmul\u001b[0m\n",
      "\u001b[32m--- Running IR pass [reshape_transpose_matmul_mkldnn_fuse_pass]\u001b[0m\n",
      "\u001b[37m---    Fused 0 ReshapeTransposeMatmul patterns for matmul Op\u001b[0m\n",
      "\u001b[37m---    Fused 0 ReshapeTransposeMatmul patterns for matmul Op with transpose's xshape\u001b[0m\n",
      "\u001b[37m---    Fused 0 ReshapeTransposeMatmul patterns for matmul Op with reshape's xshape\u001b[0m\n",
      "\u001b[37m---    Fused 0 ReshapeTransposeMatmul patterns for matmul Op with reshape's xshape with transpose's xshape\u001b[0m\n",
      "\u001b[32m--- Running IR pass [reshape_transpose_matmul_v2_mkldnn_fuse_pass]\u001b[0m\n",
      "\u001b[37m---    Fused 0 ReshapeTransposeMatmul patterns for matmul_v2 Op\u001b[0m\n",
      "\u001b[37m---    Fused 0 ReshapeTransposeMatmul patterns for matmul_v2 Op with transpose's xshape\u001b[0m\n",
      "\u001b[37m---    Fused 0 ReshapeTransposeMatmul patterns for matmul_v2 Op with reshape's xshape\u001b[0m\n",
      "\u001b[37m---    Fused 0 ReshapeTransposeMatmul patterns for matmul_v2 Op with reshape's xshape with transpose's xshape\u001b[0m\n",
      "\u001b[32m--- Running IR pass [matmul_transpose_reshape_fuse_pass]\u001b[0m\n",
      "\u001b[37m---    Fused 0 MatmulTransposeReshape patterns for matmul Op\u001b[0m\n",
      "\u001b[32m--- Running IR pass [matmul_v2_transpose_reshape_fuse_pass]\u001b[0m\n",
      "\u001b[37m---    Fused 0 MatmulTransposeReshape patterns for matmul_v2 Op\u001b[0m\n",
      "\u001b[32m--- Running IR pass [batch_norm_act_fuse_pass]\u001b[0m\n",
      "\u001b[37m---    fused 0 batch norm with relu activation\u001b[0m\n",
      "\u001b[32m--- Running IR pass [softplus_activation_mkldnn_fuse_pass]\u001b[0m\n",
      "\u001b[37m---    fused 0 softplus with relu activation\u001b[0m\n",
      "\u001b[37m---    fused 0 softplus with tanh activation\u001b[0m\n",
      "\u001b[37m---    fused 0 softplus with leaky_relu activation\u001b[0m\n",
      "\u001b[37m---    fused 0 softplus with swish activation\u001b[0m\n",
      "\u001b[37m---    fused 0 softplus with hardswish activation\u001b[0m\n",
      "\u001b[37m---    fused 0 softplus with sqrt activation\u001b[0m\n",
      "\u001b[37m---    fused 0 softplus with abs activation\u001b[0m\n",
      "\u001b[37m---    fused 0 softplus with clip activation\u001b[0m\n",
      "\u001b[37m---    fused 0 softplus with gelu activation\u001b[0m\n",
      "\u001b[37m---    fused 0 softplus with relu6 activation\u001b[0m\n",
      "\u001b[37m---    fused 0 softplus with sigmoid activation\u001b[0m\n",
      "\u001b[32m--- Running IR pass [elt_act_mkldnn_fuse_pass]\u001b[0m\n",
      "\u001b[37m---    fused 0 elementwise_add with relu activation\u001b[0m\n",
      "\u001b[37m---    fused 0 elementwise_add with tanh activation\u001b[0m\n",
      "\u001b[37m---    fused 0 elementwise_add with leaky_relu activation\u001b[0m\n",
      "\u001b[37m---    fused 0 elementwise_add with swish activation\u001b[0m\n",
      "\u001b[37m---    fused 0 elementwise_add with hardswish activation\u001b[0m\n",
      "\u001b[37m---    fused 0 elementwise_add with sqrt activation\u001b[0m\n",
      "\u001b[37m---    fused 0 elementwise_add with abs activation\u001b[0m\n",
      "\u001b[37m---    fused 0 elementwise_add with clip activation\u001b[0m\n",
      "\u001b[37m---    fused 0 elementwise_add with gelu activation\u001b[0m\n",
      "\u001b[37m---    fused 0 elementwise_add with relu6 activation\u001b[0m\n",
      "\u001b[37m---    fused 0 elementwise_add with sigmoid activation\u001b[0m\n",
      "\u001b[37m---    fused 0 elementwise_sub with relu activation\u001b[0m\n",
      "\u001b[37m---    fused 0 elementwise_sub with tanh activation\u001b[0m\n",
      "\u001b[37m---    fused 0 elementwise_sub with leaky_relu activation\u001b[0m\n",
      "\u001b[37m---    fused 0 elementwise_sub with swish activation\u001b[0m\n",
      "\u001b[37m---    fused 0 elementwise_sub with hardswish activation\u001b[0m\n",
      "\u001b[37m---    fused 0 elementwise_sub with sqrt activation\u001b[0m\n",
      "\u001b[37m---    fused 0 elementwise_sub with abs activation\u001b[0m\n",
      "\u001b[37m---    fused 0 elementwise_sub with clip activation\u001b[0m\n",
      "\u001b[37m---    fused 0 elementwise_sub with gelu activation\u001b[0m\n",
      "\u001b[37m---    fused 0 elementwise_sub with relu6 activation\u001b[0m\n",
      "\u001b[37m---    fused 0 elementwise_sub with sigmoid activation\u001b[0m\n",
      "\u001b[37m---    fused 0 elementwise_mul with relu activation\u001b[0m\n",
      "\u001b[37m---    fused 0 elementwise_mul with tanh activation\u001b[0m\n",
      "\u001b[37m---    fused 0 elementwise_mul with leaky_relu activation\u001b[0m\n",
      "\u001b[37m---    fused 0 elementwise_mul with swish activation\u001b[0m\n",
      "\u001b[37m---    fused 0 elementwise_mul with hardswish activation\u001b[0m\n",
      "\u001b[37m---    fused 0 elementwise_mul with sqrt activation\u001b[0m\n",
      "\u001b[37m---    fused 0 elementwise_mul with abs activation\u001b[0m\n",
      "\u001b[37m---    fused 0 elementwise_mul with clip activation\u001b[0m\n",
      "\u001b[37m---    fused 0 elementwise_mul with gelu activation\u001b[0m\n",
      "\u001b[37m---    fused 0 elementwise_mul with relu6 activation\u001b[0m\n",
      "\u001b[37m---    fused 0 elementwise_mul with sigmoid activation\u001b[0m\n",
      "\u001b[1m\u001b[35m--- Running analysis [ir_params_sync_among_devices_pass]\u001b[0m\n",
      "\u001b[1m\u001b[35m--- Running analysis [adjust_cudnn_workspace_size_pass]\u001b[0m\n",
      "\u001b[1m\u001b[35m--- Running analysis [inference_op_replace_pass]\u001b[0m\n",
      "\u001b[1m\u001b[35m--- Running analysis [ir_graph_to_program_pass]\u001b[0m\n",
      "I0628 22:55:48.912072   832 analysis_predictor.cc:1007] ======= optimize end =======\n",
      "I0628 22:55:48.917410   832 naive_executor.cc:102] ---  skip [feed], feed -> inputs\n",
      "I0628 22:55:48.918895   832 naive_executor.cc:102] ---  skip [save_infer_model/scale_0.tmp_1], fetch -> fetch\n",
      "I0628 22:55:48.952700   832 device_context.cc:737] oneDNN v2.5.4\n",
      "mkldnn耗时 0.5201308727264404\n",
      "mkldnn耗时 0.31861042976379395\n",
      "mkldnn耗时 0.3179738521575928\n",
      "mkldnn耗时 0.3156728744506836\n",
      "mkldnn耗时 0.319598913192749\n",
      "mkldnn耗时 0.3144242763519287\n",
      "mkldnn耗时 0.31394338607788086\n",
      "mkldnn耗时 0.3180198669433594\n",
      "mkldnn耗时 0.3159158229827881\n",
      "mkldnn耗时 0.31974339485168457\n",
      "Output data size is 2000\n",
      "Output data shape is (2, 1000)\n"
     ]
    }
   ],
   "source": [
    "!python python_demo_mkldnn.py --model_file ./resnet50/inference.pdmodel --params_file ./resnet50/inference.pdiparams --batch_size 2"
   ]
  },
  {
   "cell_type": "markdown",
   "metadata": {},
   "source": [
    "请点击[此处](https://ai.baidu.com/docs#/AIStudio_Project_Notebook/a38e5576)查看本环境基本用法.  <br>\n",
    "Please click [here ](https://ai.baidu.com/docs#/AIStudio_Project_Notebook/a38e5576) for more detailed instructions. "
   ]
  }
 ],
 "metadata": {
  "kernelspec": {
   "display_name": "Python 3",
   "language": "python",
   "name": "py35-paddle1.2.0"
  },
  "language_info": {
   "codemirror_mode": {
    "name": "ipython",
    "version": 3
   },
   "file_extension": ".py",
   "mimetype": "text/x-python",
   "name": "python",
   "nbconvert_exporter": "python",
   "pygments_lexer": "ipython3",
   "version": "3.7.4"
  }
 },
 "nbformat": 4,
 "nbformat_minor": 4
}
